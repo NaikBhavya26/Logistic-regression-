{
 "cells": [
  {
   "cell_type": "markdown",
   "id": "169a2454",
   "metadata": {},
   "source": [
    "# Logistic Regression"
   ]
  },
  {
   "cell_type": "markdown",
   "id": "60a7de69",
   "metadata": {},
   "source": [
    "# LAB - 1 Demostrating Logistic Regression on Two Class dataset"
   ]
  },
  {
   "cell_type": "markdown",
   "id": "36a9814c",
   "metadata": {},
   "source": [
    "## Importing essential python and sklearn libraries"
   ]
  },
  {
   "cell_type": "code",
   "execution_count": 1,
   "id": "800bfb19",
   "metadata": {},
   "outputs": [
    {
     "name": "stderr",
     "output_type": "stream",
     "text": [
      "C:\\Users\\ADMIN\\anaconda3\\lib\\site-packages\\scipy\\__init__.py:146: UserWarning: A NumPy version >=1.16.5 and <1.23.0 is required for this version of SciPy (detected version 1.26.4\n",
      "  warnings.warn(f\"A NumPy version >={np_minversion} and <{np_maxversion}\"\n"
     ]
    }
   ],
   "source": [
    "import matplotlib.pyplot as plt\n",
    "from sklearn.datasets import make_classification\n",
    "from sklearn.model_selection import train_test_split\n",
    "from sklearn.linear_model import LogisticRegression\n",
    "from sklearn.metrics import roc_curve\n",
    "from sklearn.metrics import roc_auc_score"
   ]
  },
  {
   "cell_type": "markdown",
   "id": "f7d199e7",
   "metadata": {},
   "source": [
    "## Generate two class dataset"
   ]
  },
  {
   "cell_type": "code",
   "execution_count": 2,
   "id": "d0103831",
   "metadata": {},
   "outputs": [],
   "source": [
    "X, y = make_classification(n_samples=1000, n_classes=2, n_features=20 , random_state=27)"
   ]
  },
  {
   "cell_type": "markdown",
   "id": "6706c4d8",
   "metadata": {},
   "source": [
    "## Split into train-test sets"
   ]
  },
  {
   "cell_type": "code",
   "execution_count": 3,
   "id": "775bc004",
   "metadata": {},
   "outputs": [],
   "source": [
    "X_train, X_test, y_train, y_test = train_test_split(X, y, test_size=0.3, random_state=27)"
   ]
  },
  {
   "cell_type": "markdown",
   "id": "dfa5c08d",
   "metadata": {},
   "source": [
    "## Train models"
   ]
  },
  {
   "cell_type": "code",
   "execution_count": 4,
   "id": "a13205f8",
   "metadata": {},
   "outputs": [],
   "source": [
    "model = LogisticRegression()"
   ]
  },
  {
   "cell_type": "markdown",
   "id": "8b850b49",
   "metadata": {},
   "source": [
    "## Fit model(Normalization and Scaling)"
   ]
  },
  {
   "cell_type": "code",
   "execution_count": 5,
   "id": "d3655c52",
   "metadata": {},
   "outputs": [
    {
     "data": {
      "text/plain": [
       "LogisticRegression()"
      ]
     },
     "execution_count": 5,
     "metadata": {},
     "output_type": "execute_result"
    }
   ],
   "source": [
    "model.fit(X_train, y_train)"
   ]
  },
  {
   "cell_type": "markdown",
   "id": "72c00504",
   "metadata": {},
   "source": [
    "## Predict probability"
   ]
  },
  {
   "cell_type": "code",
   "execution_count": 6,
   "id": "35e82be8",
   "metadata": {},
   "outputs": [],
   "source": [
    "pred_prob = model.predict_proba(X_test)"
   ]
  },
  {
   "cell_type": "markdown",
   "id": "20209cb6",
   "metadata": {},
   "source": [
    "## AUC_ROC curve for models"
   ]
  },
  {
   "cell_type": "code",
   "execution_count": 7,
   "id": "6254af18",
   "metadata": {},
   "outputs": [],
   "source": [
    "fpr , tpr , thres = roc_curve(y_test, pred_prob[:,1],pos_label=1)\n",
    "\n",
    "# roc curve for tpr = fpr\n",
    "\n",
    "random_probs = [0 for i in range (len(y_test))]\n",
    "p_fpr, p_tpr, _ = roc_curve(y_test, random_probs, pos_label=1)"
   ]
  },
  {
   "cell_type": "markdown",
   "id": "91d8c6c2",
   "metadata": {},
   "source": [
    "## AUC Score"
   ]
  },
  {
   "cell_type": "code",
   "execution_count": 8,
   "id": "b4d03b17",
   "metadata": {},
   "outputs": [
    {
     "name": "stdout",
     "output_type": "stream",
     "text": [
      "AUC score =  0.9762374461979914\n"
     ]
    }
   ],
   "source": [
    "auc_score = roc_auc_score(y_test, pred_prob[:,1])\n",
    "print(\"AUC score = \", auc_score)"
   ]
  },
  {
   "cell_type": "markdown",
   "id": "fcdb5ea4",
   "metadata": {},
   "source": [
    "## Plot AUC_ROC curve"
   ]
  },
  {
   "cell_type": "code",
   "execution_count": 9,
   "id": "5bf62db6",
   "metadata": {},
   "outputs": [
    {
     "data": {
      "image/png": "[encoded data removed]",
      "text/plain": [
       "<Figure size 576x396 with 1 Axes>"
      ]
     },
     "metadata": {},
     "output_type": "display_data"
    }
   ],
   "source": [
    "plt.style.use('seaborn')\n",
    "plt.plot(fpr , tpr, linestyle = '--', color='orange', label = 'Logistic Regression')\n",
    "plt.plot(p_fpr,p_tpr, linestyle='--', color='blue')\n",
    "\n",
    "# title\n",
    "plt.title('AUC_ROC curve')\n",
    "# x label\n",
    "plt.xlabel('False positive Rate')\n",
    "# y label\n",
    "plt.ylabel('True Positive Rate')\n",
    "\n",
    "plt.legend(loc='best')\n",
    "plt.savefig('ROC',dpi=300)\n",
    "plt.show()"
   ]
  },
  {
   "cell_type": "code",
   "execution_count": 15,
   "id": "37755fd3",
   "metadata": {},
   "outputs": [],
   "source": [
    "y_pred = model.predict(X_test)"
   ]
  },
  {
   "cell_type": "code",
   "execution_count": 17,
   "id": "ced88b8b",
   "metadata": {
    "scrolled": true
   },
   "outputs": [
    {
     "name": "stdout",
     "output_type": "stream",
     "text": [
      "              precision    recall  f1-score   support\n",
      "\n",
      "           0       0.94      0.97      0.95       164\n",
      "           1       0.96      0.93      0.94       136\n",
      "\n",
      "    accuracy                           0.95       300\n",
      "   macro avg       0.95      0.95      0.95       300\n",
      "weighted avg       0.95      0.95      0.95       300\n",
      "\n"
     ]
    }
   ],
   "source": [
    "from sklearn.metrics import classification_report\n",
    "print(classification_report(y_test,y_pred))"
   ]
  },
  {
   "cell_type": "code",
   "execution_count": 18,
   "id": "310fab87",
   "metadata": {},
   "outputs": [
    {
     "name": "stdout",
     "output_type": "stream",
     "text": [
      "[[159   5]\n",
      " [ 10 126]]\n"
     ]
    }
   ],
   "source": [
    "from sklearn.metrics import confusion_matrix\n",
    "print(confusion_matrix(y_test,y_pred))"
   ]
  },
  {
   "cell_type": "code",
   "execution_count": null,
   "id": "584d8fcf",
   "metadata": {},
   "outputs": [],
   "source": []
  }
 ],
 "metadata": {
  "kernelspec": {
   "display_name": "Python 3 (ipykernel)",
   "language": "python",
   "name": "python3"
  },
  "language_info": {
   "codemirror_mode": {
    "name": "ipython",
    "version": 3
   },
   "file_extension": ".py",
   "mimetype": "text/x-python",
   "name": "python",
   "nbconvert_exporter": "python",
   "pygments_lexer": "ipython3",
   "version": "3.9.12"
  }
 },
 "nbformat": 4,
 "nbformat_minor": 5
}
